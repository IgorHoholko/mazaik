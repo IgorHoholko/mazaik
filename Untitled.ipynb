{
 "cells": [
  {
   "cell_type": "code",
   "execution_count": 1,
   "metadata": {},
   "outputs": [],
   "source": [
    "import numpy as np\n",
    "import cv2\n",
    "import os\n",
    "import pandas as pd\n",
    "import sys\n",
    "import math\n",
    "from joblib import Parallel, delayed"
   ]
  },
  {
   "cell_type": "code",
   "execution_count": 8,
   "metadata": {},
   "outputs": [],
   "source": [
    "def show(image):\n",
    "    cv2.imshow(\"image\",image)\n",
    "    k = cv2.waitKey(0)\n",
    "\n",
    "    if k == 27: # wait for ESC key to exit\n",
    "        cv2.destroyAllWindows()\n",
    "    elif k == ord('s'): # wait for ‘s’ key to save and exit\n",
    "        cv2.imwrite('result.png',image)\n",
    "        cv2.destroyAllWindows()\n",
    "        \n",
    "def union(image, mask):\n",
    "    return np.multiply(image, mask)\n",
    "    \n",
    "    \n",
    "def image_maping(path = './jpg'):\n",
    "    files = os.listdir(path)\n",
    "    num = len(files)\n",
    "    pictures = pd.DataFrame(index = files, data=np.zeros_like(files), columns=['mean_color'])\n",
    "    for i, name in enumerate(files):\n",
    "        img = cv2.imread(f\"./jpg/{name}\")\n",
    "        mean = img.mean()\n",
    "        sys.stdout.write(f\"\\r{i}/{num} -- --{mean}\")\n",
    "        sys.stdout.flush()\n",
    "        pictures.loc[name]['mean_color'] = mean\n",
    "    pictures.to_csv(\"picts.scv\")\n",
    "    return pictures    \n",
    "\n",
    "def _load_image(name, shape = None):\n",
    "    path = f\"./jpg/{name}\"\n",
    "    img = cv2.imread(path)\n",
    "    if shape is not None:\n",
    "        img = cv2.resize(img, (shape[1], shape[0]))\n",
    "    return img       \n",
    "\n",
    "def find_nearest(array,value):\n",
    "    idx = np.searchsorted(array, value, side=\"left\")\n",
    "    if idx > 0 and (idx == len(array) or math.fabs(value - array[idx-1]) < math.fabs(value - array[idx])):\n",
    "        return array[idx-1]\n",
    "    else:\n",
    "        return array[idx]\n",
    "    "
   ]
  },
  {
   "cell_type": "code",
   "execution_count": 9,
   "metadata": {},
   "outputs": [],
   "source": [
    "def mazaik(image, pictures, window, shape_scale, blur):\n",
    "    resize_shape = tuple(np.array(image.shape[:2]) * shape_scale)\n",
    "    resize_shape = (resize_shape[1], resize_shape[0])\n",
    "    resized_image = cv2.resize(image, resize_shape)\n",
    "    blured_image = cv2.blur(resized_image, blur)\n",
    "\n",
    "    \n",
    "    heigh, width, _ = blured_image.shape\n",
    "    shift_h = window[0] - heigh % window[0]\n",
    "    shift_w = window[1] - width % window[1]\n",
    "    total_h = heigh + shift_h\n",
    "    total_w = width + shift_w\n",
    "    result = np.zeros((total_h, total_w, 3), dtype = np.uint8)\n",
    "    \n",
    "    grid_heagh, grid_width , _ = result.shape\n",
    "    num_rows = grid_heagh / window[0]\n",
    "    num_columns = grid_width / window[1]\n",
    "    \n",
    "    grid = list()\n",
    "    grid.append( [(int(i), int(j)) for i, j in zip(np.arange(num_rows) * window[0] , np.arange(1, num_rows + 1) * window[0])])\n",
    "    grid.append( [(int(i), int(j)) for i, j in zip(np.arange(num_columns) * window[1] , np.arange(1, num_columns ) * window[1])])\n",
    "    total_steps = len(grid[0]) * len(grid[1])\n",
    "    \n",
    "    pictures.sort_values(by=\"mean_color\", inplace = True)\n",
    "    pictures_means = pictures.values\n",
    "    pictures_means = np.reshape(pictures_means, len(pictures_means))\n",
    "\n",
    "    rows = Parallel(n_jobs=-1)(\n",
    "        delayed(_map_image)(col,blured_image, total_w, grid, result,\n",
    "                            pictures_means, pictures, window) for col in grid[0])\n",
    "    \n",
    "    for col, row in zip(grid[0], rows):\n",
    "        result[col[0]:col[1], :] = row\n",
    "    return result[:heigh, :width]\n",
    "\n",
    "def _map_image(col,blured_image, total_w, grid, result, pictures_means, pictures, window):\n",
    "    h = col[1]-col[0]\n",
    "    result_row = np.zeros((h, total_w, 3), dtype=np.uint8)\n",
    "    for row in grid[1]:\n",
    "#         sys.stdout.write(f\"\\rprocessed--{steps}/{total_steps}\")\n",
    "#         sys.stdout.flush()\n",
    "        piece = blured_image[col[0]:col[1], row[0]:row[1]]\n",
    "        mean_piece = piece.mean()\n",
    "        id_sample = np.where(pictures_means == find_nearest(pictures_means, mean_piece) )[0][0]\n",
    "        name_sample = pictures.iloc[id_sample].name\n",
    "        sample = _load_image(name_sample, window)\n",
    "        result_row[:, row[0]:row[1]] = sample\n",
    "    return result_row\n",
    "    "
   ]
  },
  {
   "cell_type": "code",
   "execution_count": 10,
   "metadata": {},
   "outputs": [
    {
     "name": "stdout",
     "output_type": "stream",
     "text": [
      "CPU times: user 591 ms, sys: 76.4 ms, total: 667 ms\n",
      "Wall time: 1min 3s\n"
     ]
    }
   ],
   "source": [
    "%%time\n",
    "image = cv2.imread(\"1111.jpg\")\n",
    "pictures = pd.read_csv(\"picts.scv\", index_col = [0])\n",
    "mazaik_img = mazaik(image, pictures, (20, 20), 1, (9,9))\n",
    "cv2.imwrite('result.png',mazaik_img)"
   ]
  },
  {
   "cell_type": "code",
   "execution_count": null,
   "metadata": {},
   "outputs": [],
   "source": [
    "mask = cv2.imread('1.png')\n",
    "mask[mask != 0] = 1\n",
    "res = union(mazaik_img, mask)\n",
    "show(res)"
   ]
  },
  {
   "cell_type": "code",
   "execution_count": null,
   "metadata": {},
   "outputs": [],
   "source": [
    "show(mazaik_img)"
   ]
  }
 ],
 "metadata": {
  "kernelspec": {
   "display_name": "Python 3",
   "language": "python",
   "name": "python3"
  },
  "language_info": {
   "codemirror_mode": {
    "name": "ipython",
    "version": 3
   },
   "file_extension": ".py",
   "mimetype": "text/x-python",
   "name": "python",
   "nbconvert_exporter": "python",
   "pygments_lexer": "ipython3",
   "version": "3.6.7"
  }
 },
 "nbformat": 4,
 "nbformat_minor": 2
}
